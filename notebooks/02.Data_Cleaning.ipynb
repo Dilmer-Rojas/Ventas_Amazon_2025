{
 "cells": [
  {
   "cell_type": "markdown",
   "id": "e819bf2e",
   "metadata": {},
   "source": [
    "# Limpieza de Datos"
   ]
  },
  {
   "cell_type": "markdown",
   "id": "8d0f02af",
   "metadata": {},
   "source": [
    "#### 1. Corregir Tipos de Datos\n",
    "- Asegúrate de que cada columna tenga el tipo de dato correcto (fechas, números, categorías).\n",
    "\n",
    "#### 2. Manejo de Valores Nulos\n",
    "- Elimina o imputa (rellena) los valores nulos según el contexto y la importancia de la columna.\n",
    "\n",
    "#### 3. Eliminar Duplicados\n",
    "- Elimina filas duplicadas para evitar sesgos en el análisis.\n",
    "\n",
    "#### 4. Corregir Inconsistencias\n",
    "- Unifica formatos de texto (mayúsculas/minúsculas, espacios, tildes).\n",
    "- Corrige errores ortográficos en categorías.\n",
    "\n",
    "#### 5. Tratar Outliers\n",
    "- Analiza los outliers detectados en el EDA y decide si eliminarlos, corregirlos o dejarlos.\n",
    "\n",
    "#### 6. Normalizar/Establecer Rangos\n",
    "- Si es necesario, normaliza o escala variables numéricas.\n",
    "- Asegúrate de que los valores estén dentro de rangos lógicos.\n",
    "\n",
    "#### 7. Crear Nuevas Variables (si aplica)\n",
    "- Si necesitas variables derivadas (por ejemplo, año/mes de una fecha), créalas en esta etapa."
   ]
  },
  {
   "cell_type": "code",
   "execution_count": 2,
   "id": "4913a7c3",
   "metadata": {},
   "outputs": [],
   "source": [
    "import pandas as pd  # Data manipulation\n",
    "import numpy as np  # Numerical operations\n",
    "import matplotlib.pyplot as plt  # Data visualization\n",
    "import seaborn as sns  # Data visualization\n",
    "import plotly.express as px  # Interactive data visualization\n",
    "\n",
    "import sys\n",
    "sys.path.append('..')  # Ajusta el path si es necesario\n",
    "\n",
    "from main import cargar_datos, guardar_datos"
   ]
  },
  {
   "cell_type": "code",
   "execution_count": 3,
   "id": "596395da",
   "metadata": {},
   "outputs": [],
   "source": [
    "# Cargar datos\n",
    "datos = cargar_datos()"
   ]
  },
  {
   "cell_type": "code",
   "execution_count": 4,
   "id": "ed214872",
   "metadata": {},
   "outputs": [
    {
     "data": {
      "text/html": [
       "<div>\n",
       "<style scoped>\n",
       "    .dataframe tbody tr th:only-of-type {\n",
       "        vertical-align: middle;\n",
       "    }\n",
       "\n",
       "    .dataframe tbody tr th {\n",
       "        vertical-align: top;\n",
       "    }\n",
       "\n",
       "    .dataframe thead th {\n",
       "        text-align: right;\n",
       "    }\n",
       "</style>\n",
       "<table border=\"1\" class=\"dataframe\">\n",
       "  <thead>\n",
       "    <tr style=\"text-align: right;\">\n",
       "      <th></th>\n",
       "      <th>Order ID</th>\n",
       "      <th>Date</th>\n",
       "      <th>Product</th>\n",
       "      <th>Category</th>\n",
       "      <th>Price</th>\n",
       "      <th>Quantity</th>\n",
       "      <th>Total Sales</th>\n",
       "      <th>Customer Name</th>\n",
       "      <th>Customer Location</th>\n",
       "      <th>Payment Method</th>\n",
       "      <th>Status</th>\n",
       "    </tr>\n",
       "  </thead>\n",
       "  <tbody>\n",
       "    <tr>\n",
       "      <th>0</th>\n",
       "      <td>ORD0001</td>\n",
       "      <td>14-03-25</td>\n",
       "      <td>Running Shoes</td>\n",
       "      <td>Footwear</td>\n",
       "      <td>60</td>\n",
       "      <td>3</td>\n",
       "      <td>180</td>\n",
       "      <td>Emma Clark</td>\n",
       "      <td>New York</td>\n",
       "      <td>Debit Card</td>\n",
       "      <td>Cancelled</td>\n",
       "    </tr>\n",
       "    <tr>\n",
       "      <th>1</th>\n",
       "      <td>ORD0002</td>\n",
       "      <td>20-03-25</td>\n",
       "      <td>Headphones</td>\n",
       "      <td>Electronics</td>\n",
       "      <td>100</td>\n",
       "      <td>4</td>\n",
       "      <td>400</td>\n",
       "      <td>Emily Johnson</td>\n",
       "      <td>San Francisco</td>\n",
       "      <td>Debit Card</td>\n",
       "      <td>Pending</td>\n",
       "    </tr>\n",
       "    <tr>\n",
       "      <th>2</th>\n",
       "      <td>ORD0003</td>\n",
       "      <td>15-02-25</td>\n",
       "      <td>Running Shoes</td>\n",
       "      <td>Footwear</td>\n",
       "      <td>60</td>\n",
       "      <td>2</td>\n",
       "      <td>120</td>\n",
       "      <td>John Doe</td>\n",
       "      <td>Denver</td>\n",
       "      <td>Amazon Pay</td>\n",
       "      <td>Cancelled</td>\n",
       "    </tr>\n",
       "    <tr>\n",
       "      <th>3</th>\n",
       "      <td>ORD0004</td>\n",
       "      <td>19-02-25</td>\n",
       "      <td>Running Shoes</td>\n",
       "      <td>Footwear</td>\n",
       "      <td>60</td>\n",
       "      <td>3</td>\n",
       "      <td>180</td>\n",
       "      <td>Olivia Wilson</td>\n",
       "      <td>Dallas</td>\n",
       "      <td>Credit Card</td>\n",
       "      <td>Pending</td>\n",
       "    </tr>\n",
       "    <tr>\n",
       "      <th>4</th>\n",
       "      <td>ORD0005</td>\n",
       "      <td>10-03-25</td>\n",
       "      <td>Smartwatch</td>\n",
       "      <td>Electronics</td>\n",
       "      <td>150</td>\n",
       "      <td>3</td>\n",
       "      <td>450</td>\n",
       "      <td>Emma Clark</td>\n",
       "      <td>New York</td>\n",
       "      <td>Debit Card</td>\n",
       "      <td>Pending</td>\n",
       "    </tr>\n",
       "  </tbody>\n",
       "</table>\n",
       "</div>"
      ],
      "text/plain": [
       "  Order ID      Date        Product     Category  Price  Quantity  \\\n",
       "0  ORD0001  14-03-25  Running Shoes     Footwear     60         3   \n",
       "1  ORD0002  20-03-25     Headphones  Electronics    100         4   \n",
       "2  ORD0003  15-02-25  Running Shoes     Footwear     60         2   \n",
       "3  ORD0004  19-02-25  Running Shoes     Footwear     60         3   \n",
       "4  ORD0005  10-03-25     Smartwatch  Electronics    150         3   \n",
       "\n",
       "   Total Sales  Customer Name Customer Location Payment Method     Status  \n",
       "0          180     Emma Clark          New York     Debit Card  Cancelled  \n",
       "1          400  Emily Johnson     San Francisco     Debit Card    Pending  \n",
       "2          120       John Doe            Denver     Amazon Pay  Cancelled  \n",
       "3          180  Olivia Wilson            Dallas    Credit Card    Pending  \n",
       "4          450     Emma Clark          New York     Debit Card    Pending  "
      ]
     },
     "execution_count": 4,
     "metadata": {},
     "output_type": "execute_result"
    }
   ],
   "source": [
    "datos.head()"
   ]
  },
  {
   "cell_type": "markdown",
   "id": "2d1ee08c",
   "metadata": {},
   "source": [
    "## Desarrollo"
   ]
  },
  {
   "cell_type": "markdown",
   "id": "0ad505e5",
   "metadata": {},
   "source": [
    "#### 1. Corregir Tipos de Datos\n",
    "- Asegúrate de que cada columna tenga el tipo de dato correcto (fechas, números, categorías)."
   ]
  },
  {
   "cell_type": "code",
   "execution_count": 7,
   "id": "1dd85dcb",
   "metadata": {},
   "outputs": [
    {
     "data": {
      "text/plain": [
       "Order ID             object\n",
       "Date                 object\n",
       "Product              object\n",
       "Category             object\n",
       "Price                 int64\n",
       "Quantity              int64\n",
       "Total Sales           int64\n",
       "Customer Name        object\n",
       "Customer Location    object\n",
       "Payment Method       object\n",
       "Status               object\n",
       "dtype: object"
      ]
     },
     "execution_count": 7,
     "metadata": {},
     "output_type": "execute_result"
    }
   ],
   "source": [
    "# Ver tipos de datos\n",
    "datos.dtypes"
   ]
  },
  {
   "cell_type": "markdown",
   "id": "67eb62a0",
   "metadata": {},
   "source": [
    "**Interpretación**:\n",
    "\n",
    "* Debemos cambiar el tipo de dato de *Date* al correcto"
   ]
  },
  {
   "cell_type": "code",
   "execution_count": 9,
   "id": "261bc2ef",
   "metadata": {},
   "outputs": [
    {
     "data": {
      "text/html": [
       "<div>\n",
       "<style scoped>\n",
       "    .dataframe tbody tr th:only-of-type {\n",
       "        vertical-align: middle;\n",
       "    }\n",
       "\n",
       "    .dataframe tbody tr th {\n",
       "        vertical-align: top;\n",
       "    }\n",
       "\n",
       "    .dataframe thead th {\n",
       "        text-align: right;\n",
       "    }\n",
       "</style>\n",
       "<table border=\"1\" class=\"dataframe\">\n",
       "  <thead>\n",
       "    <tr style=\"text-align: right;\">\n",
       "      <th></th>\n",
       "      <th>Order ID</th>\n",
       "      <th>Date</th>\n",
       "      <th>Product</th>\n",
       "      <th>Category</th>\n",
       "      <th>Price</th>\n",
       "      <th>Quantity</th>\n",
       "      <th>Total Sales</th>\n",
       "      <th>Customer Name</th>\n",
       "      <th>Customer Location</th>\n",
       "      <th>Payment Method</th>\n",
       "      <th>Status</th>\n",
       "    </tr>\n",
       "  </thead>\n",
       "  <tbody>\n",
       "    <tr>\n",
       "      <th>0</th>\n",
       "      <td>ORD0001</td>\n",
       "      <td>2025-03-14</td>\n",
       "      <td>Running Shoes</td>\n",
       "      <td>Footwear</td>\n",
       "      <td>60</td>\n",
       "      <td>3</td>\n",
       "      <td>180</td>\n",
       "      <td>Emma Clark</td>\n",
       "      <td>New York</td>\n",
       "      <td>Debit Card</td>\n",
       "      <td>Cancelled</td>\n",
       "    </tr>\n",
       "    <tr>\n",
       "      <th>1</th>\n",
       "      <td>ORD0002</td>\n",
       "      <td>2025-03-20</td>\n",
       "      <td>Headphones</td>\n",
       "      <td>Electronics</td>\n",
       "      <td>100</td>\n",
       "      <td>4</td>\n",
       "      <td>400</td>\n",
       "      <td>Emily Johnson</td>\n",
       "      <td>San Francisco</td>\n",
       "      <td>Debit Card</td>\n",
       "      <td>Pending</td>\n",
       "    </tr>\n",
       "    <tr>\n",
       "      <th>2</th>\n",
       "      <td>ORD0003</td>\n",
       "      <td>2025-02-15</td>\n",
       "      <td>Running Shoes</td>\n",
       "      <td>Footwear</td>\n",
       "      <td>60</td>\n",
       "      <td>2</td>\n",
       "      <td>120</td>\n",
       "      <td>John Doe</td>\n",
       "      <td>Denver</td>\n",
       "      <td>Amazon Pay</td>\n",
       "      <td>Cancelled</td>\n",
       "    </tr>\n",
       "    <tr>\n",
       "      <th>3</th>\n",
       "      <td>ORD0004</td>\n",
       "      <td>2025-02-19</td>\n",
       "      <td>Running Shoes</td>\n",
       "      <td>Footwear</td>\n",
       "      <td>60</td>\n",
       "      <td>3</td>\n",
       "      <td>180</td>\n",
       "      <td>Olivia Wilson</td>\n",
       "      <td>Dallas</td>\n",
       "      <td>Credit Card</td>\n",
       "      <td>Pending</td>\n",
       "    </tr>\n",
       "    <tr>\n",
       "      <th>4</th>\n",
       "      <td>ORD0005</td>\n",
       "      <td>2025-03-10</td>\n",
       "      <td>Smartwatch</td>\n",
       "      <td>Electronics</td>\n",
       "      <td>150</td>\n",
       "      <td>3</td>\n",
       "      <td>450</td>\n",
       "      <td>Emma Clark</td>\n",
       "      <td>New York</td>\n",
       "      <td>Debit Card</td>\n",
       "      <td>Pending</td>\n",
       "    </tr>\n",
       "  </tbody>\n",
       "</table>\n",
       "</div>"
      ],
      "text/plain": [
       "  Order ID       Date        Product     Category  Price  Quantity  \\\n",
       "0  ORD0001 2025-03-14  Running Shoes     Footwear     60         3   \n",
       "1  ORD0002 2025-03-20     Headphones  Electronics    100         4   \n",
       "2  ORD0003 2025-02-15  Running Shoes     Footwear     60         2   \n",
       "3  ORD0004 2025-02-19  Running Shoes     Footwear     60         3   \n",
       "4  ORD0005 2025-03-10     Smartwatch  Electronics    150         3   \n",
       "\n",
       "   Total Sales  Customer Name Customer Location Payment Method     Status  \n",
       "0          180     Emma Clark          New York     Debit Card  Cancelled  \n",
       "1          400  Emily Johnson     San Francisco     Debit Card    Pending  \n",
       "2          120       John Doe            Denver     Amazon Pay  Cancelled  \n",
       "3          180  Olivia Wilson            Dallas    Credit Card    Pending  \n",
       "4          450     Emma Clark          New York     Debit Card    Pending  "
      ]
     },
     "execution_count": 9,
     "metadata": {},
     "output_type": "execute_result"
    }
   ],
   "source": [
    "# Cambiar tipo de dato de date\n",
    "datos['Date'] = pd.to_datetime(datos['Date'], format='%d-%m-%y')\n",
    "datos.head()"
   ]
  },
  {
   "cell_type": "markdown",
   "id": "8f7f7e13",
   "metadata": {},
   "source": [
    "#### 2. Manejo de Valores Nulos\n",
    "- Elimina o imputa (rellena) los valores nulos según el contexto y la importancia de la columna."
   ]
  },
  {
   "cell_type": "code",
   "execution_count": 10,
   "id": "3e55babf",
   "metadata": {},
   "outputs": [
    {
     "data": {
      "text/plain": [
       "Order ID             0\n",
       "Date                 0\n",
       "Product              0\n",
       "Category             0\n",
       "Price                0\n",
       "Quantity             0\n",
       "Total Sales          0\n",
       "Customer Name        0\n",
       "Customer Location    0\n",
       "Payment Method       0\n",
       "Status               0\n",
       "dtype: int64"
      ]
     },
     "execution_count": 10,
     "metadata": {},
     "output_type": "execute_result"
    }
   ],
   "source": [
    "datos.isnull().sum()"
   ]
  },
  {
   "cell_type": "markdown",
   "id": "7314e82f",
   "metadata": {},
   "source": [
    "* *No hay NULOS*"
   ]
  },
  {
   "cell_type": "markdown",
   "id": "f68dff0f",
   "metadata": {},
   "source": [
    "#### 3. Eliminar Duplicados\n",
    "- Elimina filas duplicadas para evitar sesgos en el análisis."
   ]
  },
  {
   "cell_type": "code",
   "execution_count": 14,
   "id": "802e7fc9",
   "metadata": {},
   "outputs": [
    {
     "name": "stdout",
     "output_type": "stream",
     "text": [
      "No hay duplicados en el DataFrame.\n"
     ]
    }
   ],
   "source": [
    "duplicados = datos.duplicated().sum()\n",
    "duplicados\n",
    "\n",
    "if duplicados == 0:\n",
    "    print(\"No hay duplicados en el DataFrame.\")\n",
    "else:\n",
    "    print(f\"Hay {duplicados} duplicados en el DataFrame.\")\n",
    "    datos = datos.drop_duplicates()\n",
    "    print(\"Duplicados eliminados.\")"
   ]
  },
  {
   "cell_type": "markdown",
   "id": "0470c0b0",
   "metadata": {},
   "source": [
    "#### 4. Corregir Inconsistencias\n",
    "- Unifica formatos de texto (mayúsculas/minúsculas, espacios, tildes).\n",
    "- Corrige errores ortográficos en categorías."
   ]
  },
  {
   "cell_type": "code",
   "execution_count": null,
   "id": "21bf3ec5",
   "metadata": {},
   "outputs": [],
   "source": [
    "# Unificar formatos de texto par"
   ]
  },
  {
   "cell_type": "markdown",
   "id": "a2b3ccd9",
   "metadata": {},
   "source": [
    "#### 5. Tratar Outliers\n",
    "- Analiza los outliers detectados en el EDA y decide si eliminarlos, corregirlos o dejarlos."
   ]
  },
  {
   "cell_type": "code",
   "execution_count": null,
   "id": "f40afb3a",
   "metadata": {},
   "outputs": [],
   "source": []
  },
  {
   "cell_type": "markdown",
   "id": "e24cc04b",
   "metadata": {},
   "source": [
    "#### 6. Normalizar/Establecer Rangos\n",
    "- Si es necesario, normaliza o escala variables numéricas.\n",
    "- Asegúrate de que los valores estén dentro de rangos lógicos."
   ]
  },
  {
   "cell_type": "code",
   "execution_count": null,
   "id": "055e5b8c",
   "metadata": {},
   "outputs": [],
   "source": []
  },
  {
   "cell_type": "markdown",
   "id": "03775aa4",
   "metadata": {},
   "source": [
    "#### 7. Crear Nuevas Variables (si aplica)\n",
    "- Si necesitas variables derivadas (por ejemplo, año/mes de una fecha), créalas en esta etapa."
   ]
  },
  {
   "cell_type": "code",
   "execution_count": null,
   "id": "3cf66e33",
   "metadata": {},
   "outputs": [],
   "source": []
  }
 ],
 "metadata": {
  "kernelspec": {
   "display_name": "Python 3",
   "language": "python",
   "name": "python3"
  },
  "language_info": {
   "codemirror_mode": {
    "name": "ipython",
    "version": 3
   },
   "file_extension": ".py",
   "mimetype": "text/x-python",
   "name": "python",
   "nbconvert_exporter": "python",
   "pygments_lexer": "ipython3",
   "version": "3.13.3"
  }
 },
 "nbformat": 4,
 "nbformat_minor": 5
}
