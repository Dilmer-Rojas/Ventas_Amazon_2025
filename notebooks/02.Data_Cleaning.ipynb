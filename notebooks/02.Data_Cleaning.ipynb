{
 "cells": [
  {
   "cell_type": "markdown",
   "id": "e819bf2e",
   "metadata": {},
   "source": [
    "# Limpieza de Datos"
   ]
  },
  {
   "cell_type": "markdown",
   "id": "8d0f02af",
   "metadata": {},
   "source": [
    "#### 1. Corregir Tipos de Datos\n",
    "- Asegúrate de que cada columna tenga el tipo de dato correcto (fechas, números, categorías).\n",
    "\n",
    "#### 2. Manejo de Valores Nulos\n",
    "- Elimina o imputa (rellena) los valores nulos según el contexto y la importancia de la columna.\n",
    "\n",
    "#### 3. Eliminar Duplicados\n",
    "- Elimina filas duplicadas para evitar sesgos en el análisis.\n",
    "\n",
    "#### 4. Corregir Inconsistencias\n",
    "- Unifica formatos de texto (mayúsculas/minúsculas, espacios, tildes).\n",
    "- Corrige errores ortográficos en categorías.\n",
    "\n",
    "#### 5. Tratar Outliers\n",
    "- Analiza los outliers detectados en el EDA y decide si eliminarlos, corregirlos o dejarlos.\n",
    "\n",
    "#### 6. Crear Nuevas Variables (si aplica)\n",
    "- Si necesitas variables derivadas (por ejemplo, año/mes de una fecha), créalas en esta etapa."
   ]
  },
  {
   "cell_type": "code",
   "execution_count": null,
   "id": "4913a7c3",
   "metadata": {},
   "outputs": [],
   "source": [
    "import pandas as pd  # Data manipulation\n",
    "import numpy as np  # Numerical operations\n",
    "import matplotlib.pyplot as plt  # Data visualization\n",
    "import seaborn as sns  # Data visualization\n",
    "import plotly.express as px  # Interactive data visualization\n",
    "\n",
    "import sys\n",
    "sys.path.append('..')  # Ajusta el path si es necesario\n",
    "\n",
    "from main import cargar_datos, guardar_datos"
   ]
  },
  {
   "cell_type": "code",
   "execution_count": null,
   "id": "596395da",
   "metadata": {},
   "outputs": [],
   "source": [
    "# Cargar datos\n",
    "datos = cargar_datos()"
   ]
  },
  {
   "cell_type": "code",
   "execution_count": null,
   "id": "ed214872",
   "metadata": {},
   "outputs": [],
   "source": [
    "datos.head()"
   ]
  },
  {
   "cell_type": "markdown",
   "id": "2d1ee08c",
   "metadata": {},
   "source": [
    "## Desarrollo"
   ]
  },
  {
   "cell_type": "markdown",
   "id": "0ad505e5",
   "metadata": {},
   "source": [
    "#### 1. Corregir Tipos de Datos\n",
    "- Asegúrate de que cada columna tenga el tipo de dato correcto (fechas, números, categorías)."
   ]
  },
  {
   "cell_type": "code",
   "execution_count": null,
   "id": "1dd85dcb",
   "metadata": {},
   "outputs": [],
   "source": [
    "# Ver tipos de datos\n",
    "datos.dtypes"
   ]
  },
  {
   "cell_type": "markdown",
   "id": "67eb62a0",
   "metadata": {},
   "source": [
    "**Interpretación**:\n",
    "\n",
    "* Debemos cambiar el tipo de dato de *Date* al correcto"
   ]
  },
  {
   "cell_type": "code",
   "execution_count": null,
   "id": "261bc2ef",
   "metadata": {},
   "outputs": [],
   "source": [
    "# Cambiar tipo de dato de date\n",
    "datos['Date'] = pd.to_datetime(datos['Date'], format='%d-%m-%y')\n",
    "datos.head()"
   ]
  },
  {
   "cell_type": "markdown",
   "id": "8f7f7e13",
   "metadata": {},
   "source": [
    "#### 2. Manejo de Valores Nulos\n",
    "- Elimina o imputa (rellena) los valores nulos según el contexto y la importancia de la columna."
   ]
  },
  {
   "cell_type": "code",
   "execution_count": null,
   "id": "3e55babf",
   "metadata": {},
   "outputs": [],
   "source": [
    "datos.isnull().sum()"
   ]
  },
  {
   "cell_type": "markdown",
   "id": "7314e82f",
   "metadata": {},
   "source": [
    "* *No hay NULOS*"
   ]
  },
  {
   "cell_type": "markdown",
   "id": "f68dff0f",
   "metadata": {},
   "source": [
    "#### 3. Eliminar Duplicados\n",
    "- Elimina filas duplicadas para evitar sesgos en el análisis."
   ]
  },
  {
   "cell_type": "code",
   "execution_count": null,
   "id": "802e7fc9",
   "metadata": {},
   "outputs": [],
   "source": [
    "duplicados = datos.duplicated().sum()\n",
    "duplicados\n",
    "\n",
    "if duplicados == 0:\n",
    "    print(\"No hay duplicados en el DataFrame.\")\n",
    "else:\n",
    "    print(f\"Hay {duplicados} duplicados en el DataFrame.\")\n",
    "    datos = datos.drop_duplicates()\n",
    "    print(\"Duplicados eliminados.\")"
   ]
  },
  {
   "cell_type": "markdown",
   "id": "0470c0b0",
   "metadata": {},
   "source": [
    "#### 4. Corregir Inconsistencias\n",
    "- Unifica formatos de texto (mayúsculas/minúsculas, espacios, tildes).\n",
    "- Corrige errores ortográficos en categorías."
   ]
  },
  {
   "cell_type": "code",
   "execution_count": null,
   "id": "21bf3ec5",
   "metadata": {},
   "outputs": [],
   "source": [
    "# Unificar formatos de texto (mayúsculas/minúsculas, espacios, tildes) para los campos de texto\n",
    "# Determinamos las columnas de tipo object\n",
    "columnas_texto = datos.select_dtypes(include=['object']).columns\n",
    "# Aplicamos la normalización a cada columna de texto\n",
    "for col in columnas_texto:\n",
    "    datos[col] = datos[col].str.title()  # Convertir a título (capitalizar la primera letra de cada palabra)\n",
    "    datos[col] = datos[col].str.strip()  # Eliminar espacios al inicio y al final\n",
    "    datos[col] = datos[col].str.normalize('NFKD').str.encode('ascii', errors='ignore').str.decode('utf-8')  # Eliminar tildes\n",
    "    "
   ]
  },
  {
   "cell_type": "code",
   "execution_count": null,
   "id": "271de117",
   "metadata": {},
   "outputs": [],
   "source": [
    "datos.head()"
   ]
  },
  {
   "cell_type": "markdown",
   "id": "a2b3ccd9",
   "metadata": {},
   "source": [
    "#### 5. Tratar Outliers\n",
    "- Analiza los outliers detectados en el EDA y decide si eliminarlos, corregirlos o dejarlos."
   ]
  },
  {
   "cell_type": "code",
   "execution_count": null,
   "id": "62e2ce0c",
   "metadata": {},
   "outputs": [],
   "source": [
    "# Identificar el número de outliers usando IQR\n",
    "def identificar_outliers_iqr(df, columna):\n",
    "    Q1 = df[columna].quantile(0.25)\n",
    "    Q3 = df[columna].quantile(0.75)\n",
    "    IQR = Q3 - Q1\n",
    "    limite_inferior = Q1 - 1.5 * IQR\n",
    "    limite_superior = Q3 + 1.5 * IQR\n",
    "    outliers = df[(df[columna] < limite_inferior) | (df[columna] > limite_superior)]\n",
    "    return outliers\n",
    "outliers_cantidad = identificar_outliers_iqr(datos, 'Total Sales')\n",
    "outliers_cantidad"
   ]
  },
  {
   "cell_type": "code",
   "execution_count": null,
   "id": "f40afb3a",
   "metadata": {},
   "outputs": [],
   "source": [
    "# Aplicamos a todas las columnas y monstramos para cada una un array con los outliers\n",
    "for col in datos.select_dtypes(include=[np.number]).columns:\n",
    "    outliers = identificar_outliers_iqr(datos, col)\n",
    "    print(f\"Columna: {col}, Número de outliers: {len(outliers)}\")\n",
    "    print(outliers[[col]])\n",
    "    "
   ]
  },
  {
   "cell_type": "markdown",
   "id": "76a0adab",
   "metadata": {},
   "source": [
    "**Conclusión**:\n",
    "\n",
    "* *No hay outliers aunque según nos muestre que hay 11 outliers en la columna `Total Sales`*\n",
    "* *En conlusión según el IQR hay outliers pero son falsos outliers*"
   ]
  },
  {
   "cell_type": "markdown",
   "id": "03775aa4",
   "metadata": {},
   "source": [
    "#### 6. Crear Nuevas Variables (si aplica)\n",
    "- Si necesitas variables derivadas (por ejemplo, año/mes de una fecha), créalas en esta etapa."
   ]
  },
  {
   "cell_type": "code",
   "execution_count": null,
   "id": "3cf66e33",
   "metadata": {},
   "outputs": [],
   "source": [
    "# Crear variables según la columna 'Date' y agruparlas en un tres nuevas columnas\n",
    "datos['Year'] = datos['Date'].dt.year\n",
    "datos['Month'] = datos['Date'].dt.strftime('%B')\n",
    "datos['Day'] = datos['Date'].dt.day\n",
    "datos.head()"
   ]
  },
  {
   "cell_type": "code",
   "execution_count": null,
   "id": "d21f78e4",
   "metadata": {},
   "outputs": [],
   "source": [
    "# Guardar datos limpios\n",
    "guardar_datos(datos)"
   ]
  }
 ],
 "metadata": {
  "kernelspec": {
   "display_name": "Python 3",
   "language": "python",
   "name": "python3"
  },
  "language_info": {
   "codemirror_mode": {
    "name": "ipython",
    "version": 3
   },
   "file_extension": ".py",
   "mimetype": "text/x-python",
   "name": "python",
   "nbconvert_exporter": "python",
   "pygments_lexer": "ipython3",
   "version": "3.13.3"
  }
 },
 "nbformat": 4,
 "nbformat_minor": 5
}
