{
 "cells": [
  {
   "cell_type": "markdown",
   "id": "16de7345",
   "metadata": {},
   "source": [
    "# EDA Rápido Antes de la Limpieza\n",
    "\n",
    "**Objetivos:**\n",
    "\n",
    "* Ver la estructura de los datos.\n",
    "* Ver las estadísticas generales.\n",
    "* Identificar valores nulos.\n",
    "* Identificar duplicados.\n",
    "* Detectar Outliers\n",
    "<!-- 6. Corregir formatos y tipos de datos () -->"
   ]
  },
  {
   "cell_type": "code",
   "execution_count": 68,
   "id": "d982f77b",
   "metadata": {},
   "outputs": [],
   "source": [
    "# Importar Librerías necesarias\n",
    "import pandas as pd # Data manipulation\n",
    "import numpy as np # Numerical operations\n",
    "import matplotlib.pyplot as plt # Data visualization\n",
    "import seaborn as sns # Data visualization\n",
    "import plotly.express as px # Interactive data visualization"
   ]
  },
  {
   "cell_type": "code",
   "execution_count": 69,
   "id": "bdf1a793",
   "metadata": {},
   "outputs": [
    {
     "data": {
      "text/html": [
       "<div>\n",
       "<style scoped>\n",
       "    .dataframe tbody tr th:only-of-type {\n",
       "        vertical-align: middle;\n",
       "    }\n",
       "\n",
       "    .dataframe tbody tr th {\n",
       "        vertical-align: top;\n",
       "    }\n",
       "\n",
       "    .dataframe thead th {\n",
       "        text-align: right;\n",
       "    }\n",
       "</style>\n",
       "<table border=\"1\" class=\"dataframe\">\n",
       "  <thead>\n",
       "    <tr style=\"text-align: right;\">\n",
       "      <th></th>\n",
       "      <th>Order ID</th>\n",
       "      <th>Date</th>\n",
       "      <th>Product</th>\n",
       "      <th>Category</th>\n",
       "      <th>Price</th>\n",
       "      <th>Quantity</th>\n",
       "      <th>Total Sales</th>\n",
       "      <th>Customer Name</th>\n",
       "      <th>Customer Location</th>\n",
       "      <th>Payment Method</th>\n",
       "      <th>Status</th>\n",
       "    </tr>\n",
       "  </thead>\n",
       "  <tbody>\n",
       "    <tr>\n",
       "      <th>0</th>\n",
       "      <td>ORD0001</td>\n",
       "      <td>14-03-25</td>\n",
       "      <td>Running Shoes</td>\n",
       "      <td>Footwear</td>\n",
       "      <td>60</td>\n",
       "      <td>3</td>\n",
       "      <td>180</td>\n",
       "      <td>Emma Clark</td>\n",
       "      <td>New York</td>\n",
       "      <td>Debit Card</td>\n",
       "      <td>Cancelled</td>\n",
       "    </tr>\n",
       "    <tr>\n",
       "      <th>1</th>\n",
       "      <td>ORD0002</td>\n",
       "      <td>20-03-25</td>\n",
       "      <td>Headphones</td>\n",
       "      <td>Electronics</td>\n",
       "      <td>100</td>\n",
       "      <td>4</td>\n",
       "      <td>400</td>\n",
       "      <td>Emily Johnson</td>\n",
       "      <td>San Francisco</td>\n",
       "      <td>Debit Card</td>\n",
       "      <td>Pending</td>\n",
       "    </tr>\n",
       "    <tr>\n",
       "      <th>2</th>\n",
       "      <td>ORD0003</td>\n",
       "      <td>15-02-25</td>\n",
       "      <td>Running Shoes</td>\n",
       "      <td>Footwear</td>\n",
       "      <td>60</td>\n",
       "      <td>2</td>\n",
       "      <td>120</td>\n",
       "      <td>John Doe</td>\n",
       "      <td>Denver</td>\n",
       "      <td>Amazon Pay</td>\n",
       "      <td>Cancelled</td>\n",
       "    </tr>\n",
       "    <tr>\n",
       "      <th>3</th>\n",
       "      <td>ORD0004</td>\n",
       "      <td>19-02-25</td>\n",
       "      <td>Running Shoes</td>\n",
       "      <td>Footwear</td>\n",
       "      <td>60</td>\n",
       "      <td>3</td>\n",
       "      <td>180</td>\n",
       "      <td>Olivia Wilson</td>\n",
       "      <td>Dallas</td>\n",
       "      <td>Credit Card</td>\n",
       "      <td>Pending</td>\n",
       "    </tr>\n",
       "    <tr>\n",
       "      <th>4</th>\n",
       "      <td>ORD0005</td>\n",
       "      <td>10-03-25</td>\n",
       "      <td>Smartwatch</td>\n",
       "      <td>Electronics</td>\n",
       "      <td>150</td>\n",
       "      <td>3</td>\n",
       "      <td>450</td>\n",
       "      <td>Emma Clark</td>\n",
       "      <td>New York</td>\n",
       "      <td>Debit Card</td>\n",
       "      <td>Pending</td>\n",
       "    </tr>\n",
       "  </tbody>\n",
       "</table>\n",
       "</div>"
      ],
      "text/plain": [
       "  Order ID      Date        Product     Category  Price  Quantity  \\\n",
       "0  ORD0001  14-03-25  Running Shoes     Footwear     60         3   \n",
       "1  ORD0002  20-03-25     Headphones  Electronics    100         4   \n",
       "2  ORD0003  15-02-25  Running Shoes     Footwear     60         2   \n",
       "3  ORD0004  19-02-25  Running Shoes     Footwear     60         3   \n",
       "4  ORD0005  10-03-25     Smartwatch  Electronics    150         3   \n",
       "\n",
       "   Total Sales  Customer Name Customer Location Payment Method     Status  \n",
       "0          180     Emma Clark          New York     Debit Card  Cancelled  \n",
       "1          400  Emily Johnson     San Francisco     Debit Card    Pending  \n",
       "2          120       John Doe            Denver     Amazon Pay  Cancelled  \n",
       "3          180  Olivia Wilson            Dallas    Credit Card    Pending  \n",
       "4          450     Emma Clark          New York     Debit Card    Pending  "
      ]
     },
     "execution_count": 69,
     "metadata": {},
     "output_type": "execute_result"
    }
   ],
   "source": [
    "# Cargar los datos\n",
    "ruta_archivo = \"../data/raw/amazon_sales_data 2025.csv\" \n",
    "\n",
    "datos = pd.read_csv(ruta_archivo)\n",
    "# Mostrar las primeras filas del DataFrame\n",
    "datos.head()"
   ]
  },
  {
   "cell_type": "markdown",
   "id": "14847468",
   "metadata": {},
   "source": [
    "### Ver estructura del dataset"
   ]
  },
  {
   "cell_type": "code",
   "execution_count": 70,
   "id": "8436905b",
   "metadata": {},
   "outputs": [
    {
     "name": "stdout",
     "output_type": "stream",
     "text": [
      "<class 'pandas.core.frame.DataFrame'>\n",
      "RangeIndex: 250 entries, 0 to 249\n",
      "Data columns (total 11 columns):\n",
      " #   Column             Non-Null Count  Dtype \n",
      "---  ------             --------------  ----- \n",
      " 0   Order ID           250 non-null    object\n",
      " 1   Date               250 non-null    object\n",
      " 2   Product            250 non-null    object\n",
      " 3   Category           250 non-null    object\n",
      " 4   Price              250 non-null    int64 \n",
      " 5   Quantity           250 non-null    int64 \n",
      " 6   Total Sales        250 non-null    int64 \n",
      " 7   Customer Name      250 non-null    object\n",
      " 8   Customer Location  250 non-null    object\n",
      " 9   Payment Method     250 non-null    object\n",
      " 10  Status             250 non-null    object\n",
      "dtypes: int64(3), object(8)\n",
      "memory usage: 21.6+ KB\n"
     ]
    }
   ],
   "source": [
    "# Ver información general del dataset\n",
    "datos.info()"
   ]
  },
  {
   "cell_type": "code",
   "execution_count": 71,
   "id": "119cdbfa",
   "metadata": {},
   "outputs": [
    {
     "name": "stdout",
     "output_type": "stream",
     "text": [
      "El dataset tiene 250 filas y 11 columnas.\n"
     ]
    }
   ],
   "source": [
    "# Cantidad de filas y columnas\n",
    "print(f\"El dataset tiene {datos.shape[0]} filas y {datos.shape[1]} columnas.\")"
   ]
  },
  {
   "cell_type": "code",
   "execution_count": 72,
   "id": "57becdf5",
   "metadata": {},
   "outputs": [
    {
     "data": {
      "text/plain": [
       "Index(['Order ID', 'Date', 'Product', 'Category', 'Price', 'Quantity',\n",
       "       'Total Sales', 'Customer Name', 'Customer Location', 'Payment Method',\n",
       "       'Status'],\n",
       "      dtype='object')"
      ]
     },
     "execution_count": 72,
     "metadata": {},
     "output_type": "execute_result"
    }
   ],
   "source": [
    "# Ver las columnas del dataset\n",
    "datos.columns"
   ]
  },
  {
   "cell_type": "code",
   "execution_count": 73,
   "id": "74befbbe",
   "metadata": {},
   "outputs": [
    {
     "data": {
      "text/plain": [
       "Order ID             object\n",
       "Date                 object\n",
       "Product              object\n",
       "Category             object\n",
       "Price                 int64\n",
       "Quantity              int64\n",
       "Total Sales           int64\n",
       "Customer Name        object\n",
       "Customer Location    object\n",
       "Payment Method       object\n",
       "Status               object\n",
       "dtype: object"
      ]
     },
     "execution_count": 73,
     "metadata": {},
     "output_type": "execute_result"
    }
   ],
   "source": [
    "# Tipos de datos para cada columna\n",
    "datos.dtypes"
   ]
  },
  {
   "cell_type": "markdown",
   "id": "c1e0d628",
   "metadata": {},
   "source": [
    "### Ver estadísticas generales"
   ]
  },
  {
   "cell_type": "code",
   "execution_count": 74,
   "id": "8b74ea2a",
   "metadata": {},
   "outputs": [
    {
     "data": {
      "text/html": [
       "<div>\n",
       "<style scoped>\n",
       "    .dataframe tbody tr th:only-of-type {\n",
       "        vertical-align: middle;\n",
       "    }\n",
       "\n",
       "    .dataframe tbody tr th {\n",
       "        vertical-align: top;\n",
       "    }\n",
       "\n",
       "    .dataframe thead th {\n",
       "        text-align: right;\n",
       "    }\n",
       "</style>\n",
       "<table border=\"1\" class=\"dataframe\">\n",
       "  <thead>\n",
       "    <tr style=\"text-align: right;\">\n",
       "      <th></th>\n",
       "      <th>Price</th>\n",
       "      <th>Quantity</th>\n",
       "      <th>Total Sales</th>\n",
       "    </tr>\n",
       "  </thead>\n",
       "  <tbody>\n",
       "    <tr>\n",
       "      <th>count</th>\n",
       "      <td>250.000000</td>\n",
       "      <td>250.000000</td>\n",
       "      <td>250.000000</td>\n",
       "    </tr>\n",
       "    <tr>\n",
       "      <th>mean</th>\n",
       "      <td>343.580000</td>\n",
       "      <td>2.856000</td>\n",
       "      <td>975.380000</td>\n",
       "    </tr>\n",
       "    <tr>\n",
       "      <th>std</th>\n",
       "      <td>380.635808</td>\n",
       "      <td>1.429489</td>\n",
       "      <td>1252.112254</td>\n",
       "    </tr>\n",
       "    <tr>\n",
       "      <th>min</th>\n",
       "      <td>15.000000</td>\n",
       "      <td>1.000000</td>\n",
       "      <td>15.000000</td>\n",
       "    </tr>\n",
       "    <tr>\n",
       "      <th>25%</th>\n",
       "      <td>40.000000</td>\n",
       "      <td>2.000000</td>\n",
       "      <td>100.000000</td>\n",
       "    </tr>\n",
       "    <tr>\n",
       "      <th>50%</th>\n",
       "      <td>150.000000</td>\n",
       "      <td>3.000000</td>\n",
       "      <td>400.000000</td>\n",
       "    </tr>\n",
       "    <tr>\n",
       "      <th>75%</th>\n",
       "      <td>600.000000</td>\n",
       "      <td>4.000000</td>\n",
       "      <td>1500.000000</td>\n",
       "    </tr>\n",
       "    <tr>\n",
       "      <th>max</th>\n",
       "      <td>1200.000000</td>\n",
       "      <td>5.000000</td>\n",
       "      <td>6000.000000</td>\n",
       "    </tr>\n",
       "  </tbody>\n",
       "</table>\n",
       "</div>"
      ],
      "text/plain": [
       "             Price    Quantity  Total Sales\n",
       "count   250.000000  250.000000   250.000000\n",
       "mean    343.580000    2.856000   975.380000\n",
       "std     380.635808    1.429489  1252.112254\n",
       "min      15.000000    1.000000    15.000000\n",
       "25%      40.000000    2.000000   100.000000\n",
       "50%     150.000000    3.000000   400.000000\n",
       "75%     600.000000    4.000000  1500.000000\n",
       "max    1200.000000    5.000000  6000.000000"
      ]
     },
     "execution_count": 74,
     "metadata": {},
     "output_type": "execute_result"
    }
   ],
   "source": [
    "# Ver estadisticas del dataset\n",
    "datos.describe() # Para solo datos de tipo numérico"
   ]
  },
  {
   "cell_type": "code",
   "execution_count": 75,
   "id": "bcec2b7e",
   "metadata": {},
   "outputs": [
    {
     "name": "stderr",
     "output_type": "stream",
     "text": [
      "C:\\Users\\harri\\AppData\\Local\\Temp\\ipykernel_16312\\2305181076.py:1: FutureWarning: Styler.applymap has been deprecated. Use Styler.map instead.\n",
      "  datos.describe().style.applymap(lambda v: 'color: green; font-weight: bold')\n"
     ]
    },
    {
     "data": {
      "text/html": [
       "<style type=\"text/css\">\n",
       "#T_0f9dd_row0_col0, #T_0f9dd_row0_col1, #T_0f9dd_row0_col2, #T_0f9dd_row1_col0, #T_0f9dd_row1_col1, #T_0f9dd_row1_col2, #T_0f9dd_row2_col0, #T_0f9dd_row2_col1, #T_0f9dd_row2_col2, #T_0f9dd_row3_col0, #T_0f9dd_row3_col1, #T_0f9dd_row3_col2, #T_0f9dd_row4_col0, #T_0f9dd_row4_col1, #T_0f9dd_row4_col2, #T_0f9dd_row5_col0, #T_0f9dd_row5_col1, #T_0f9dd_row5_col2, #T_0f9dd_row6_col0, #T_0f9dd_row6_col1, #T_0f9dd_row6_col2, #T_0f9dd_row7_col0, #T_0f9dd_row7_col1, #T_0f9dd_row7_col2 {\n",
       "  color: green;\n",
       "  font-weight: bold;\n",
       "}\n",
       "</style>\n",
       "<table id=\"T_0f9dd\">\n",
       "  <thead>\n",
       "    <tr>\n",
       "      <th class=\"blank level0\" >&nbsp;</th>\n",
       "      <th id=\"T_0f9dd_level0_col0\" class=\"col_heading level0 col0\" >Price</th>\n",
       "      <th id=\"T_0f9dd_level0_col1\" class=\"col_heading level0 col1\" >Quantity</th>\n",
       "      <th id=\"T_0f9dd_level0_col2\" class=\"col_heading level0 col2\" >Total Sales</th>\n",
       "    </tr>\n",
       "  </thead>\n",
       "  <tbody>\n",
       "    <tr>\n",
       "      <th id=\"T_0f9dd_level0_row0\" class=\"row_heading level0 row0\" >count</th>\n",
       "      <td id=\"T_0f9dd_row0_col0\" class=\"data row0 col0\" >250.000000</td>\n",
       "      <td id=\"T_0f9dd_row0_col1\" class=\"data row0 col1\" >250.000000</td>\n",
       "      <td id=\"T_0f9dd_row0_col2\" class=\"data row0 col2\" >250.000000</td>\n",
       "    </tr>\n",
       "    <tr>\n",
       "      <th id=\"T_0f9dd_level0_row1\" class=\"row_heading level0 row1\" >mean</th>\n",
       "      <td id=\"T_0f9dd_row1_col0\" class=\"data row1 col0\" >343.580000</td>\n",
       "      <td id=\"T_0f9dd_row1_col1\" class=\"data row1 col1\" >2.856000</td>\n",
       "      <td id=\"T_0f9dd_row1_col2\" class=\"data row1 col2\" >975.380000</td>\n",
       "    </tr>\n",
       "    <tr>\n",
       "      <th id=\"T_0f9dd_level0_row2\" class=\"row_heading level0 row2\" >std</th>\n",
       "      <td id=\"T_0f9dd_row2_col0\" class=\"data row2 col0\" >380.635808</td>\n",
       "      <td id=\"T_0f9dd_row2_col1\" class=\"data row2 col1\" >1.429489</td>\n",
       "      <td id=\"T_0f9dd_row2_col2\" class=\"data row2 col2\" >1252.112254</td>\n",
       "    </tr>\n",
       "    <tr>\n",
       "      <th id=\"T_0f9dd_level0_row3\" class=\"row_heading level0 row3\" >min</th>\n",
       "      <td id=\"T_0f9dd_row3_col0\" class=\"data row3 col0\" >15.000000</td>\n",
       "      <td id=\"T_0f9dd_row3_col1\" class=\"data row3 col1\" >1.000000</td>\n",
       "      <td id=\"T_0f9dd_row3_col2\" class=\"data row3 col2\" >15.000000</td>\n",
       "    </tr>\n",
       "    <tr>\n",
       "      <th id=\"T_0f9dd_level0_row4\" class=\"row_heading level0 row4\" >25%</th>\n",
       "      <td id=\"T_0f9dd_row4_col0\" class=\"data row4 col0\" >40.000000</td>\n",
       "      <td id=\"T_0f9dd_row4_col1\" class=\"data row4 col1\" >2.000000</td>\n",
       "      <td id=\"T_0f9dd_row4_col2\" class=\"data row4 col2\" >100.000000</td>\n",
       "    </tr>\n",
       "    <tr>\n",
       "      <th id=\"T_0f9dd_level0_row5\" class=\"row_heading level0 row5\" >50%</th>\n",
       "      <td id=\"T_0f9dd_row5_col0\" class=\"data row5 col0\" >150.000000</td>\n",
       "      <td id=\"T_0f9dd_row5_col1\" class=\"data row5 col1\" >3.000000</td>\n",
       "      <td id=\"T_0f9dd_row5_col2\" class=\"data row5 col2\" >400.000000</td>\n",
       "    </tr>\n",
       "    <tr>\n",
       "      <th id=\"T_0f9dd_level0_row6\" class=\"row_heading level0 row6\" >75%</th>\n",
       "      <td id=\"T_0f9dd_row6_col0\" class=\"data row6 col0\" >600.000000</td>\n",
       "      <td id=\"T_0f9dd_row6_col1\" class=\"data row6 col1\" >4.000000</td>\n",
       "      <td id=\"T_0f9dd_row6_col2\" class=\"data row6 col2\" >1500.000000</td>\n",
       "    </tr>\n",
       "    <tr>\n",
       "      <th id=\"T_0f9dd_level0_row7\" class=\"row_heading level0 row7\" >max</th>\n",
       "      <td id=\"T_0f9dd_row7_col0\" class=\"data row7 col0\" >1200.000000</td>\n",
       "      <td id=\"T_0f9dd_row7_col1\" class=\"data row7 col1\" >5.000000</td>\n",
       "      <td id=\"T_0f9dd_row7_col2\" class=\"data row7 col2\" >6000.000000</td>\n",
       "    </tr>\n",
       "  </tbody>\n",
       "</table>\n"
      ],
      "text/plain": [
       "<pandas.io.formats.style.Styler at 0x28e7da8df90>"
      ]
     },
     "execution_count": 75,
     "metadata": {},
     "output_type": "execute_result"
    }
   ],
   "source": [
    "datos.describe().style.applymap(lambda v: 'color: green; font-weight: bold')"
   ]
  }
 ],
 "metadata": {
  "kernelspec": {
   "display_name": "Python 3",
   "language": "python",
   "name": "python3"
  },
  "language_info": {
   "codemirror_mode": {
    "name": "ipython",
    "version": 3
   },
   "file_extension": ".py",
   "mimetype": "text/x-python",
   "name": "python",
   "nbconvert_exporter": "python",
   "pygments_lexer": "ipython3",
   "version": "3.13.3"
  }
 },
 "nbformat": 4,
 "nbformat_minor": 5
}
