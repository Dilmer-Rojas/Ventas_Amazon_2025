{
 "cells": [
  {
   "cell_type": "markdown",
   "id": "16de7345",
   "metadata": {},
   "source": [
    "# EDA Rápido Antes de la Limpieza"
   ]
  },
  {
   "cell_type": "markdown",
   "id": "d18620a6",
   "metadata": {},
   "source": [
    "#### 1. **Estructura y Dimensiones**\n",
    "- Número de filas y columnas (`datos.shape`)\n",
    "- Tipos de datos de cada columna (`datos.dtypes`)\n",
    "- Primeras y últimas filas (`datos.head()`, `datos.tail()`)\n",
    "\n",
    "#### 2. **Estadísticas Generales**\n",
    "- Estadísticas descriptivas de variables numéricas (`datos.describe()`)\n",
    "- Estadísticas de variables categóricas (`datos.describe(include='object')`)\n",
    "\n",
    "#### 3. **Valores Nulos**\n",
    "- Conteo de valores nulos por columna (`datos.isnull().sum()`)\n",
    "- Porcentaje de nulos por columna\n",
    "\n",
    "#### 4. **Duplicados**\n",
    "- Número de filas duplicadas (`datos.duplicated().sum()`)\n",
    "\n",
    "#### 5. **Valores Únicos**\n",
    "- Número de valores únicos por columna (`datos.nunique()`)\n",
    "\n",
    "#### 6. **Distribución de Variables**\n",
    "- Histogramas y boxplots para variables numéricas\n",
    "- Conteo de frecuencias para variables categóricas\n",
    "\n",
    "#### 7. **Outliers**\n",
    "- Detección visual con boxplots\n",
    "- Revisión de valores extremos en estadísticas descriptivas\n",
    "\n",
    "#### 8. **Relaciones entre Variables**\n",
    "- Correlaciones entre variables numéricas (`datos.corr()`)\n",
    "- Tablas cruzadas para variables categóricas"
   ]
  },
  {
   "cell_type": "code",
   "execution_count": null,
   "id": "41ec7f19",
   "metadata": {},
   "outputs": [],
   "source": [
    "# Importar Librerías necesarias\n",
    "import pandas as pd # Data manipulation\n",
    "import numpy as np # Numerical operations\n",
    "import matplotlib.pyplot as plt # Data visualization\n",
    "import seaborn as sns # Data visualization\n",
    "import plotly.express as px # Interactive data visualization\n",
    "import sys\n",
    "sys.path.append('..')  # Ajusta el path si es necesario\n",
    "\n",
    "from main import cargar_datos"
   ]
  },
  {
   "cell_type": "code",
   "execution_count": null,
   "id": "5c7c276f",
   "metadata": {},
   "outputs": [],
   "source": [
    "# Cargar el dataset\n",
    "datos = cargar_datos()"
   ]
  },
  {
   "cell_type": "markdown",
   "id": "1587d5e0",
   "metadata": {},
   "source": [
    "#### 1. **Estructura y Dimensiones**\n",
    "- Número de filas y columnas (`datos.shape`)\n",
    "- Tipos de datos de cada columna (`datos.dtypes`)\n",
    "- Primeras y últimas filas (`datos.head()`, `datos.tail()`)"
   ]
  },
  {
   "cell_type": "code",
   "execution_count": null,
   "id": "49e9caf1",
   "metadata": {},
   "outputs": [],
   "source": [
    "# Números de filas y columnas\n",
    "print(f\"El dataset contiene {datos.shape[0]} filas y {datos.shape[1]} columnas.\")"
   ]
  },
  {
   "cell_type": "code",
   "execution_count": null,
   "id": "e630fc99",
   "metadata": {},
   "outputs": [],
   "source": [
    "# Tipos de datos de cada columna\n",
    "print(\"Tipos de datos de cada columna:\")\n",
    "datos.dtypes"
   ]
  },
  {
   "cell_type": "code",
   "execution_count": null,
   "id": "db3d0c1d",
   "metadata": {},
   "outputs": [],
   "source": [
    "# Primeras filas\n",
    "datos.head()"
   ]
  },
  {
   "cell_type": "code",
   "execution_count": null,
   "id": "20c22f7e",
   "metadata": {},
   "outputs": [],
   "source": [
    "# Ultimas filas\n",
    "datos.tail()"
   ]
  },
  {
   "cell_type": "markdown",
   "id": "bbfbbbcd",
   "metadata": {},
   "source": [
    "**Interpretación:**\n",
    "\n",
    "* *Hay 250 filas y 11 columnas*\n",
    "* *Hay un tipo de dato que debemos corregir, es el de `date` debe ser de tipo fecha*"
   ]
  },
  {
   "cell_type": "code",
   "execution_count": null,
   "id": "c5396673",
   "metadata": {},
   "outputs": [],
   "source": [
    "# Cambio de tipo de dato de la columna 'Date' a datetime\n",
    "datos['Date'] = pd.to_datetime(datos['Date'], format='%d-%m-%y')"
   ]
  },
  {
   "cell_type": "markdown",
   "id": "e22038cd",
   "metadata": {},
   "source": [
    "#### 2. **Estadísticas Generales**\n",
    "- Estadísticas descriptivas de variables numéricas (`datos.describe()`)\n",
    "- Estadísticas de variables categóricas (`datos.describe(include='object')`)"
   ]
  },
  {
   "cell_type": "code",
   "execution_count": null,
   "id": "357fb23d",
   "metadata": {},
   "outputs": [],
   "source": [
    "# Estadísticas descriptivas de variables numéricas\n",
    "datos.describe()"
   ]
  },
  {
   "cell_type": "code",
   "execution_count": null,
   "id": "e464a219",
   "metadata": {},
   "outputs": [],
   "source": [
    "# Estadísticas descriptivas de variables categóricass\n",
    "datos.describe(include=['object'])"
   ]
  },
  {
   "cell_type": "markdown",
   "id": "14d9aa3d",
   "metadata": {},
   "source": [
    "#### 3. **Valores Nulos**\n",
    "- Conteo de valores nulos por columna (`datos.isnull().sum()`)\n",
    "- Porcentaje de nulos por columna"
   ]
  },
  {
   "cell_type": "code",
   "execution_count": null,
   "id": "a0221af9",
   "metadata": {},
   "outputs": [],
   "source": [
    "# Conteo de valores nulos\n",
    "print(\"Conteo de valores nulos por columna:\")\n",
    "datos.isnull().sum()"
   ]
  },
  {
   "cell_type": "code",
   "execution_count": null,
   "id": "078cc651",
   "metadata": {},
   "outputs": [],
   "source": [
    "# Porcemtaje de valores nulos por columna\n",
    "porcentaje_nulos = datos.isnull().mean() * 100\n",
    "print(\"Porcentaje de valores nulos por columna:\")\n",
    "print(porcentaje_nulos)"
   ]
  },
  {
   "cell_type": "markdown",
   "id": "e012f4b2",
   "metadata": {},
   "source": [
    "**Interpretación:**\n",
    "\n",
    "* No hay ***nulos*** en el dataset"
   ]
  },
  {
   "cell_type": "markdown",
   "id": "227f1a46",
   "metadata": {},
   "source": [
    "#### 4. **Duplicados**\n",
    "- Número de filas duplicadas (`datos.duplicated().sum()`)"
   ]
  },
  {
   "cell_type": "code",
   "execution_count": null,
   "id": "38fe1fc6",
   "metadata": {},
   "outputs": [],
   "source": [
    "# Numero de duplicados\n",
    "print(\"Número de filas duplicadas:\")\n",
    "print(datos.duplicated().sum())"
   ]
  },
  {
   "cell_type": "markdown",
   "id": "3824db03",
   "metadata": {},
   "source": [
    "**Interpretación:**\n",
    "\n",
    "* No hay ***duplicados*** en el dataset"
   ]
  },
  {
   "cell_type": "markdown",
   "id": "255a9f00",
   "metadata": {},
   "source": [
    "#### 5. **Valores Únicos**\n",
    "- Número de valores únicos por columna (`datos.nunique()`)"
   ]
  },
  {
   "cell_type": "code",
   "execution_count": null,
   "id": "dac71dfd",
   "metadata": {},
   "outputs": [],
   "source": [
    "# número de valores únicos por columna\n",
    "print(\"Número de valores únicos por columna:\")\n",
    "datos.nunique()"
   ]
  },
  {
   "cell_type": "markdown",
   "id": "a75e08d3",
   "metadata": {},
   "source": [
    "#### 6. **Distribución de Variables**\n",
    "- Histogramas y boxplots para variables numéricas\n",
    "- Conteo de frecuencias para variables categóricas"
   ]
  },
  {
   "cell_type": "code",
   "execution_count": null,
   "id": "3f618eb0",
   "metadata": {},
   "outputs": [],
   "source": [
    "# Histogrmas y boxplots para variables numéricas\n",
    "numericas = datos.select_dtypes(include=[np.number]).columns.tolist()\n",
    "for col in numericas:\n",
    "    plt.figure(figsize=(12, 6))\n",
    "    plt.subplot(1, 2, 1)\n",
    "    sns.histplot(datos[col], kde=True)\n",
    "    plt.title(f'Histograma de {col}')\n",
    "    \n",
    "    plt.subplot(1, 2, 2)\n",
    "    sns.boxplot(x=datos[col])\n",
    "    plt.title(f'Boxplot de {col}')\n",
    "    \n",
    "    plt.tight_layout()\n",
    "    plt.show()"
   ]
  },
  {
   "cell_type": "markdown",
   "id": "caccfa32",
   "metadata": {},
   "source": [
    "En tu análisis:\n",
    "\n",
    "* **Price**: Distribución sesgada a la derecha (muchos precios bajos y pocos muy altos), típica en ventas.\n",
    "* **Quantity**: Distribución casi uniforme (las cantidades de 1 a 5 se venden con frecuencias similares).\n",
    "* **Total Sales**: Distribución sesgada a la derecha (muchas ventas bajas y pocas muy altas)."
   ]
  },
  {
   "cell_type": "code",
   "execution_count": null,
   "id": "ea3de73a",
   "metadata": {},
   "outputs": [],
   "source": [
    "# Conteo de frecuencias para viariables categóricas excepto Order ID\n",
    "categoriales = datos.select_dtypes(include=['object']).columns.tolist()\n",
    "categoriales.remove('Order ID')  # Excluir 'Order ID'\n",
    "for col in categoriales:\n",
    "    plt.figure(figsize=(10, 5))\n",
    "    sns.countplot(y=datos[col], order=datos[col].value_counts().index)\n",
    "    plt.title(f'Conteo de frecuencias de {col}')\n",
    "    plt.show()"
   ]
  },
  {
   "cell_type": "markdown",
   "id": "0724f5b3",
   "metadata": {},
   "source": [
    "#### 7. **Outliers**\n",
    "- Detección visual con boxplots\n",
    "- Revisión de valores extremos en estadísticas descriptivas"
   ]
  },
  {
   "cell_type": "code",
   "execution_count": null,
   "id": "0457d982",
   "metadata": {},
   "outputs": [],
   "source": [
    "# Detección visual de outliers con boxplots usando plotly\n",
    "for col in numericas:\n",
    "    fig = px.box(datos, y=col, title=f'Boxplot interactivo de {col}')\n",
    "    fig.show()"
   ]
  },
  {
   "cell_type": "code",
   "execution_count": null,
   "id": "df0df25c",
   "metadata": {},
   "outputs": [],
   "source": [
    "# Detectar outliers usando el método IQR\n",
    "def detectar_outliers_iqr(df, columna):\n",
    "    Q1 = df[columna].quantile(0.25)\n",
    "    Q3 = df[columna].quantile(0.75)\n",
    "    IQR = Q3 - Q1\n",
    "    limite_inferior = Q1 - 1.5 * IQR\n",
    "    limite_superior = Q3 + 1.5 * IQR\n",
    "    return df[(df[columna] < limite_inferior) | (df[columna] > limite_superior)]\n",
    "for col in numericas:\n",
    "    outliers = detectar_outliers_iqr(datos, col)\n",
    "    print(f\"Outliers en {col}:\")\n",
    "    print(outliers[[col]])\n",
    "    print(\"\\n\")\n",
    "    "
   ]
  },
  {
   "cell_type": "code",
   "execution_count": null,
   "id": "f4440308",
   "metadata": {},
   "outputs": [],
   "source": [
    "# Ver tabla con los ouliers hallados\n",
    "outliers_tabla = pd.DataFrame()\n",
    "for col in numericas:\n",
    "    outliers = detectar_outliers_iqr(datos, col)\n",
    "    outliers_tabla[col] = outliers[col]\n",
    "outliers_tabla = outliers_tabla.dropna(how='all')  # Eliminar columnas sin outliers\n",
    "print(\"Tabla de outliers detectados:\")\n",
    "outliers_tabla"
   ]
  },
  {
   "cell_type": "markdown",
   "id": "82af4bee",
   "metadata": {},
   "source": [
    "**Interpretación:**\n",
    "\n",
    "* Muestra una tabla donde se ve que hay en total 11 outliers en la columna `Total Sales`, lo cual lo vamos a verificar si son outliers en la Limpieza de datos"
   ]
  },
  {
   "cell_type": "markdown",
   "id": "b880764b",
   "metadata": {},
   "source": [
    "#### 8. **Relaciones entre Variables**\n",
    "- Correlaciones entre variables numéricas (`datos.corr()`)\n",
    "- Tablas cruzadas para variables categóricas"
   ]
  },
  {
   "cell_type": "code",
   "execution_count": null,
   "id": "0f8e17a3",
   "metadata": {},
   "outputs": [],
   "source": [
    "# Headmap usando plotly solo con columnas numéricas relevantes\n",
    "columnas_numericas = datos.select_dtypes(include=[np.number]).columns\n",
    "fig = px.imshow(datos[columnas_numericas].corr(), text_auto=True, aspect=\"auto\", title=\"Mapa de calor de correlaciones\")\n",
    "fig.update_layout(width=700, height=500)\n",
    "fig.show()"
   ]
  },
  {
   "cell_type": "code",
   "execution_count": null,
   "id": "df857e04",
   "metadata": {},
   "outputs": [],
   "source": [
    "# Correlaciones entre variables numéricas\n",
    "correlaciones = datos[numericas].corr()\n",
    "plt.figure(figsize=(12, 8))\n",
    "sns.heatmap(correlaciones, annot=True, cmap='coolwarm', fmt='.2f')\n",
    "plt.title('Mapa de calor de correlaciones entre variables numéricas')\n"
   ]
  },
  {
   "cell_type": "markdown",
   "id": "02072398",
   "metadata": {},
   "source": [
    "***\n",
    "\n",
    "**El mapa de calor muestra:**\n",
    "\n",
    "* **Price y Total Sales**: correlación fuerte positiva (**0.85**), lo que indica que a mayor precio, mayores ventas totales (posiblemente por un efecto de ticket promedio).\n",
    "* **Quantity y Total Sales**: correlación positiva moderada (**0.33**), sugiere que más cantidad vendida sí incrementa ventas totales, pero no tanto como el precio.\n",
    "* **Price y Quantity**: correlación prácticamente nula (**-0.01**), indicando independencia entre precio y cantidad vendida.\n",
    "\n",
    "Esto significa que el precio influye más en las ventas totales que la cantidad.\n",
    "\n",
    "***\n",
    "\n",
    "**En palabras simples:**\n",
    "\n",
    "* **Precio y ventas totales** (0.85): Cuando sube el precio, también suben las ventas totales.\n",
    "* **Cantidad y ventas totales** (0.33): Vender más unidades ayuda, pero no tanto como subir el precio.\n",
    "* **Precio y cantidad** (-0.01): El precio no afecta cuántas unidades se venden.\n",
    "\n",
    "***\n",
    "\n",
    "En el análisis, esto dice que:\n",
    "\n",
    "* Para mover más las **ventas totales**, es más efectivo ajustar el **precio** que la cantidad vendida.\n",
    "* La **cantidad** sí suma, pero su impacto es menor.\n",
    "* **Precio y cantidad** son independientes, así que puedes optimizar cada uno por separado.\n"
   ]
  },
  {
   "cell_type": "code",
   "execution_count": null,
   "id": "aca40cbb",
   "metadata": {},
   "outputs": [],
   "source": [
    "# Tablas cruzadas para variables categóricas\n",
    "\n",
    "tabla_cruzada = pd.crosstab(index=datos['Product'], columns='count')\n",
    "print(f\"Tabla cruzada para {col}:\")\n",
    "tabla_cruzada\n",
    "    "
   ]
  },
  {
   "cell_type": "code",
   "execution_count": null,
   "id": "02fd1272",
   "metadata": {},
   "outputs": [],
   "source": [
    "tabla_cruzada = pd.crosstab(index=datos['Category'], columns='count')\n",
    "print(f\"Tabla cruzada para {col}:\")\n",
    "tabla_cruzada"
   ]
  },
  {
   "cell_type": "code",
   "execution_count": null,
   "id": "ba76ee59",
   "metadata": {},
   "outputs": [],
   "source": [
    "tabla_cruzada = pd.crosstab(index=datos['Customer Name'], columns='count')\n",
    "print(f\"Tabla cruzada para {col}:\")\n",
    "tabla_cruzada"
   ]
  },
  {
   "cell_type": "code",
   "execution_count": null,
   "id": "dcbeea27",
   "metadata": {},
   "outputs": [],
   "source": [
    "tabla_cruzada = pd.crosstab(index=datos['Customer Location'], columns='count')\n",
    "print(f\"Tabla cruzada para {col}:\")\n",
    "tabla_cruzada"
   ]
  },
  {
   "cell_type": "code",
   "execution_count": null,
   "id": "358b3893",
   "metadata": {},
   "outputs": [],
   "source": [
    "tabla_cruzada = pd.crosstab(index=datos['Payment Method'], columns='count')\n",
    "print(f\"Tabla cruzada para {col}:\")\n",
    "tabla_cruzada"
   ]
  },
  {
   "cell_type": "code",
   "execution_count": null,
   "id": "71da8fcc",
   "metadata": {},
   "outputs": [],
   "source": [
    "tabla_cruzada = pd.crosstab(index=datos['Status'], columns='count')\n",
    "print(f\"Tabla cruzada para {col}:\")\n",
    "tabla_cruzada"
   ]
  }
 ],
 "metadata": {
  "kernelspec": {
   "display_name": "Python 3",
   "language": "python",
   "name": "python3"
  },
  "language_info": {
   "codemirror_mode": {
    "name": "ipython",
    "version": 3
   },
   "file_extension": ".py",
   "mimetype": "text/x-python",
   "name": "python",
   "nbconvert_exporter": "python",
   "pygments_lexer": "ipython3",
   "version": "3.13.3"
  }
 },
 "nbformat": 4,
 "nbformat_minor": 5
}
